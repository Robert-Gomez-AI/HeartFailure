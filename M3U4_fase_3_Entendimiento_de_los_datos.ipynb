{
  "nbformat": 4,
  "nbformat_minor": 0,
  "metadata": {
    "colab": {
      "provenance": [],
      "include_colab_link": true
    },
    "kernelspec": {
      "name": "python3",
      "display_name": "Python 3"
    },
    "language_info": {
      "name": "python"
    }
  },
  "cells": [
    {
      "cell_type": "markdown",
      "metadata": {
        "id": "view-in-github",
        "colab_type": "text"
      },
      "source": [
        "<a href=\"https://colab.research.google.com/github/Robert-Gomez-AI/HeartFailure/blob/main/M3U4_fase_3_Entendimiento_de_los_datos.ipynb\" target=\"_parent\"><img src=\"https://colab.research.google.com/assets/colab-badge.svg\" alt=\"Open In Colab\"/></a>"
      ]
    },
    {
      "cell_type": "markdown",
      "source": [
        "<img src = \"https://drive.google.com/uc?export=view&id=1rSrsZ04aJ_D3BC67Cy2dBUZ6tmguydNf\" alt = \"Encabezado MLDS\" width = \"100%\">  </img>"
      ],
      "metadata": {
        "id": "2qrgS_sCJquS"
      }
    },
    {
      "cell_type": "markdown",
      "metadata": {
        "id": "fb006272"
      },
      "source": [
        "# **Entendimiento y carga de los datos**\n",
        "---\n",
        "\n",
        "Este notebook es una plantilla que le puede servir como guía para el tercer entregable del proyecto aplicado."
      ]
    },
    {
      "cell_type": "markdown",
      "metadata": {
        "id": "f6de2158"
      },
      "source": [
        "## **1. Análisis Exploratorio de los Datos**\n",
        "---\n",
        "\n",
        "Describa la estructura y la naturaleza de los datos antes de comenzar con el análisis en profundidad."
      ]
    },
    {
      "cell_type": "markdown",
      "metadata": {
        "id": "20031c7b"
      },
      "source": [
        "### **1.1. Resumen General**\n",
        "---\n",
        "\n",
        "- ¿Cuántos documentos tiene el *dataset*?\n",
        "- ¿En qué formato están guardados los datos?\n",
        "- ¿Qué tamaño en MB tiene el conjunto?"
      ]
    },
    {
      "cell_type": "markdown",
      "metadata": {
        "id": "7Jl8RMHshKR2"
      },
      "source": [
        "---**INGRESE SU RESPUESTA**---"
      ]
    },
    {
      "cell_type": "markdown",
      "source": [
        "### **1.2. Exploración Preliminar**\n",
        "---\n",
        "- ¿Cuál es la naturaleza de los datos que se van a analizar en el proyecto?\n",
        "- ¿Qué tipos de variables y características están presentes en el conjunto de datos?\n"
      ],
      "metadata": {
        "id": "w3Fdj4iPgvEU"
      }
    },
    {
      "cell_type": "markdown",
      "metadata": {
        "id": "8b0f9910"
      },
      "source": [
        "---**INGRESE SU RESPUESTA**---"
      ]
    },
    {
      "cell_type": "markdown",
      "metadata": {
        "id": "cEfyrRxkhLqZ"
      },
      "source": [
        "## **2. Análisis Descriptivo de los Datos**\n",
        "---\n",
        "\n",
        "Profundice en el análisis de los datos, proporcionando una descripción detallada y estadísticas clave."
      ]
    },
    {
      "cell_type": "markdown",
      "metadata": {
        "id": "KG-9ujUuhLqa"
      },
      "source": [
        "### **2.1. Relaciones entre variables**\n",
        "---\n",
        "\n",
        "- ¿Se identifican patrones, tendencias o características notables?\n",
        "- ¿Cómo se exploran y describen las relaciones entre variables?"
      ]
    },
    {
      "cell_type": "markdown",
      "metadata": {
        "id": "0C9ePG9vhLqb"
      },
      "source": [
        "---**INGRESE SU RESPUESTA**---"
      ]
    },
    {
      "cell_type": "markdown",
      "metadata": {
        "id": "4a9cc180"
      },
      "source": [
        "## **3. Carga o Adquisición de Datos**\n",
        "---\n",
        "\n",
        "Agregue el código necesario en _Python_ para obtener o cargar los datos."
      ]
    },
    {
      "cell_type": "markdown",
      "source": [
        "### **3.1. Origen de los datos**\n",
        "---\n",
        "- ¿Cuál es la fuente principal de los datos?\n",
        "- ¿Existen consideraciones especiales al extraer datos de esta fuente?\n",
        "- ¿Cómo se obtienen los datos del origen a la plataforma de Big Data?\n",
        "- ¿Se utilizan herramientas específicas?"
      ],
      "metadata": {
        "id": "CjNqUPcYhpZ-"
      }
    },
    {
      "cell_type": "code",
      "execution_count": null,
      "metadata": {
        "id": "1b580368"
      },
      "outputs": [],
      "source": [
        "# INGRESE SU CÓDIGO"
      ]
    },
    {
      "cell_type": "markdown",
      "source": [
        "## **Créditos**\n",
        "---\n",
        "\n",
        "* **Profesor:** [Jorge E. Camargo, PhD](https://dis.unal.edu.co/~jecamargom/)\n",
        "* **Asistentes docentes:**\n",
        "    - [Juan Sebastián Lara Ramírez](https://www.linkedin.com/in/juan-sebastian-lara-ramirez-43570a214/).\n",
        "* **Diseño de imágenes:**\n",
        "    - [Rosa Alejandra Superlano Esquibel](mailto:rsuperlano@unal.edu.co).\n",
        "* **Coordinador de virtualización:**\n",
        "    - [Edder Hernández Forero](https://www.linkedin.com/in/edder-hernandez-forero-28aa8b207/).\n",
        "    \n",
        "**Universidad Nacional de Colombia** - *Facultad de Ingeniería*"
      ],
      "metadata": {
        "id": "2FLj-UiEd91C"
      }
    }
  ]
}