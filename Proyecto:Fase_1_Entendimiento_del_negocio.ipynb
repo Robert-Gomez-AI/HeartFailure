{
  "cells": [
    {
      "cell_type": "markdown",
      "metadata": {
        "id": "view-in-github",
        "colab_type": "text"
      },
      "source": [
        "<a href=\"https://colab.research.google.com/github/Robert-Gomez-AI/HeartFailure/blob/main/Proyecto%3AFase_1_Entendimiento_del_negocio.ipynb\" target=\"_parent\"><img src=\"https://colab.research.google.com/assets/colab-badge.svg\" alt=\"Open In Colab\"/></a>"
      ]
    },
    {
      "cell_type": "markdown",
      "metadata": {
        "id": "2qrgS_sCJquS"
      },
      "source": [
        "<img src = \"https://drive.google.com/uc?export=view&id=1ljiY7gV0TKs3nnTMPA5UBdED8KGzzZnX\" alt = \"Encabezado MLDS\" width = \"100%\">  </img>"
      ]
    },
    {
      "cell_type": "markdown",
      "metadata": {
        "id": "--22KSZzLR-o"
      },
      "source": [
        "# **Entendimiento del negocio**\n",
        "---\n",
        "Este notebook es una plantilla que le puede servir como guía para el primer entregable del proyecto aplicado."
      ]
    },
    {
      "cell_type": "markdown",
      "metadata": {
        "id": "fdb4c33d"
      },
      "source": [
        "## **0. Integrantes del equipo de trabajo**\n",
        "---\n",
        "\n",
        "Por favor incluya los nombres completos y número de identificación de los integrantes del equipo de trabajo:"
      ]
    },
    {
      "cell_type": "markdown",
      "metadata": {
        "id": "ckNDI7ftUrpa"
      },
      "source": [
        "1. John Robert Gomez Pachón\n",
        "2. Yojhan Leandro Roldan Robles\n",
        "3. Daniela Mejia Castro"
      ]
    },
    {
      "cell_type": "markdown",
      "metadata": {
        "id": "w2fwJpnBUkMV"
      },
      "source": [
        "## **1. Marco de Proyecto**\n",
        "---\n",
        "\n",
        "Normalmente, se suele construir un marco de proyecto para mostrar los resultados del entendimiento del negocio, es decir, debemos dar respuesta a los siguientes elementos:"
      ]
    },
    {
      "cell_type": "markdown",
      "metadata": {
        "id": "pRqgu9BH_L30"
      },
      "source": [
        "# **1. Entendimiento del negocio**\n",
        "---\n",
        "# **1.1 Trasfondo del proyecto**\n",
        "---\n",
        "- ¿Quienes son los beneficiarios del proyecto? ¿En qué dominio se encuentran (marketing, medicina, entre otros)?\n",
        "- ¿Cuáles son los principales desafíos o problemas de la situación que motivan la necesidad de realizar un proyecto de análisis de datos?\n",
        "---\n",
        "\n",
        "El desarrollo del proyecto se encuentra en el marco del área de la salud, más específicamente se enfoca en el análisis de datos bioestadísticos. Este es un campo que, como se describe en el articulo Chicco y Jurman (en el que se analiza el mismo set de datos), intenta encontrar correlaciones y patrones en los datos que no son fácilmente detectables por los especialistas de la salud, paso seguido construyen modelos predictivos para determinar el posible estado de los pacientes basándose en sus características.\n",
        "\n",
        "El enfoque del proyecto se inclina por la búsqueda de relaciones entre las diferentes variables que componen la historia clínica electrónica (EHR por sus siglas en ingles). Lo anterior se fundamenta en las herramientas y metodologías del análisis y visualización de datos, particularmente se implementará en la metodología CRISP-DM.\n",
        "\n",
        "Los beneficios son fundamentalmente:\n",
        "\n",
        "- Poder reducir los factores de riesgo en la población en general para reducir el riesgo de fallo cardiaco y realizar tratamientos preventivos.\n",
        "- Realizar un proceso de priorización para los pacientes para poder reducir sus indices de mortalidad.\n",
        "\n",
        "\n",
        "El desafió al que este proyecto se enfrenta esta bien descrito en el articulo que presenta los datos, y es encontrar la manera de generar diagnostico precisos acerca de pacientes con fallas cardíacas, ya que al rededor del mundo se presentan cerca de 17 millones de muertes al año relacionadas con enfermedades cardiovasculares. Este reto ha sido tratado desde diferentes perspectivas, pero las herramientas de machine learning y bioestadistica han presentado deficiencias en generar modelos predictivos de alta precisión (comentado en el articulo).\n",
        "\n",
        "# **1.2 Alcance**\n",
        "---\n",
        "\n",
        "- ¿Qué  solución se desea implementar?\n",
        "- ¿Cuáles son los límites y fronteras del proyecto de análisis de datos? ¿Qué aspectos específicos del negocio se incluirán y cuáles se excluyen en el alcance del proyecto?\n",
        "- ¿De qué forma el cliente o beneficiario utilizará el producto del proyecto?\n",
        "---\n",
        "Nuestra proyección se enfoca en realizar un análisis exploratorio, además de un análisis de correlación y una visualización correspondiente, la idea es poder procesar los datos y encontrar los patrones y correlaciones entre las variables y el fallo cardiaco.\n",
        "\n",
        "En cuanto a las limitaciones debemos tener en cuenta tanto limitaciones propias, como las limitaciones presentadas en el articulo:\n",
        "\n",
        ">1. En el articulo se menciona que los modelos creados anteriormente tienen un problema de reproducibilidad en el entorno, y tiene como resultado un disenso en cuanto a los factores que son considerados causa de muerte en fallos cardiacos. Adicionalmente, el intento por mejorar la reproducibilidad de los modelos y los analisis impactan fuertemente su rendimiento, ya que se tiende a validar la eficacia de los modelos probandolos con diferentes datasets, lo cual concluye en una baja taza de presición del modelo. La solución que propone el articulo es reproducir el modelo en entornos altamente delimitados y precisos, es por ello que este dataset es tan pequeño y preciso (299 pacientes entre 45 y 95 años con fallas cardiacas, los datos fueron recolectados en 2015 en tan solo 2 centros de salud de Pakistan), con ello las conclusiones SOLO aplicarían a la predicción de pacientes de una población muy similar. No podemos combinar datos de mas pacientes a menos que sean de una población similar, sino no tendremos consenso sobre las conclusiones.\n",
        "2. El set de datos como lo conseguimos esta muy bien depurado y limpio, no presenta valores nulos, todos pertenecen a la misma población, esto nos deja una limitante en el proyecto y es que una de las fases se refiere a la PREPARACIÓN DE LOS DATOS, por lo que esta fase parece que no la podremos aplicar muy bien.\n",
        "3. El proyecto es de análisis y visualización de datos, y como ya se mencionó anteriormente, NO vamos a implementar ninguna herramienta de machine learning, por lo que nuestra metodología esta resagada al avance que ya existe en el paper.\n",
        "\n",
        "#**1.3 Plan**\n",
        "---\n",
        "1. Definición del conjunto de datos\n",
        "\n",
        "- Identificar el conjunto de datos que se utilizará en el proyecto.\n",
        "- Obtener información sobre el origen, la estructura y las características del conjunto de datos.\n",
        "- Evaluar la calidad de los datos y determinar si se requiere algún tipo de limpieza o transformación.\n",
        "\n",
        "2. Entendimiento del negocio\n",
        "\n",
        "- Realizar un análisis del sector al que pertenece el conjunto de datos.\n",
        "- Evaluar la situación actual del negocio y los objetivos que se persiguen.\n",
        "- Definir los objetivos del proyecto de minería de datos en relación con los objetivos del negocio.\n",
        "- Elaborar un plan de proyecto que detalle las actividades, los recursos y el cronograma del proyecto.\n",
        "3. Entendimiento de los datos\n",
        "\n",
        "- Capturar los datos del conjunto de datos seleccionado.\n",
        "- Describir las características del conjunto de datos, incluyendo la distribución de las variables, la presencia de valores atípicos y la existencia de relaciones entre las variables.\n",
        "- Gestionar la calidad de los datos mediante la identificación y corrección de errores, la eliminación de valores atípicos y la transformación de variables.\n",
        "4. Análisis de los datos\n",
        "\n",
        "- Seleccionar las técnicas de minería de datos más adecuadas para el proyecto.\n",
        "- Aplicar las técnicas de minería de datos al conjunto de datos para obtener información valiosa.\n",
        "- Interpretar los resultados del análisis y traducirlos en conocimiento útil para el negocio.\n",
        "5. Comunicación de resultados\n",
        "\n",
        "- Generar un informe que documente los resultados del proyecto.\n",
        "- Presentar los resultados del proyecto a las partes interesadas."
      ]
    },
    {
      "cell_type": "markdown",
      "metadata": {
        "id": "4a4e145b"
      },
      "source": [
        "## **2. Datos**\n",
        "---\n",
        "\n",
        "En esta sección debe adjuntar una descripción de los datos que planea trabajar. Por el momento no es obligatorio cargar los datos."
      ]
    },
    {
      "cell_type": "markdown",
      "metadata": {
        "id": "2c5f8274"
      },
      "source": [
        "### **2.1. Origen**\n",
        "---\n",
        "\n",
        "- ¿De dónde vienen los datos?\n",
        "- ¿Se usa alguna herramienta o proceso para la descarga de la información?\n",
        "- ¿Qué tipo de datos está manejando?"
      ]
    },
    {
      "cell_type": "markdown",
      "metadata": {
        "id": "7261ad96"
      },
      "source": [
        "**Los datos fueron extraidos de Kaggle, el set de datos tiene dimensiones (299,16), los datos son tanto categoricos como cuantitativos. El set comprende información de la historia clinica electónica de pacientes que hayan sufrido una falla cardiaca en 2 centros medicos ubicados en pakistan.**"
      ]
    },
    {
      "cell_type": "markdown",
      "metadata": {
        "id": "ceibuW1dNH9a"
      },
      "source": [
        "## **Créditos**\n",
        "* **Profesor:** [Felipe Restrepo Calle](https://dis.unal.edu.co/~ferestrepoca/)\n",
        "* **Asistentes docentes:**\n",
        "    - [Juan Sebastián Lara Ramírez](https://www.linkedin.com/in/juan-sebastian-lara-ramirez-43570a214/).\n",
        "* **Diseño de imágenes:**\n",
        "    - [Rosa Alejandra Superlano Esquibel](mailto:rsuperlano@unal.edu.co).\n",
        "* **Coordinador de virtualización:**\n",
        "    - [Edder Hernández Forero](https://www.linkedin.com/in/edder-hernandez-forero-28aa8b207/).\n",
        "    \n",
        "**Universidad Nacional de Colombia** - *Facultad de Ingeniería*"
      ]
    },
    {
      "cell_type": "markdown",
      "metadata": {
        "id": "bjdCy0Ag_L33"
      },
      "source": [
        "# 2 Datos\n",
        "\n",
        "---"
      ]
    },
    {
      "cell_type": "markdown",
      "source": [
        "**Link del conjunto de datos**\n",
        "\n",
        "https://www.kaggle.com/datasets/nimapourmoradi/heart-failure-clinical-records"
      ],
      "metadata": {
        "id": "C0_ktVxWJJvO"
      }
    }
  ],
  "metadata": {
    "colab": {
      "provenance": [],
      "include_colab_link": true
    },
    "kernelspec": {
      "display_name": "Python 3",
      "name": "python3"
    },
    "language_info": {
      "name": "python"
    }
  },
  "nbformat": 4,
  "nbformat_minor": 0
}