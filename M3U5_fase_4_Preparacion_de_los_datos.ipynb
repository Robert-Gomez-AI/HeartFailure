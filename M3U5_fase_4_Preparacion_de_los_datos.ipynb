{
  "nbformat": 4,
  "nbformat_minor": 0,
  "metadata": {
    "colab": {
      "provenance": [],
      "include_colab_link": true
    },
    "kernelspec": {
      "name": "python3",
      "display_name": "Python 3"
    },
    "language_info": {
      "name": "python"
    }
  },
  "cells": [
    {
      "cell_type": "markdown",
      "metadata": {
        "id": "view-in-github",
        "colab_type": "text"
      },
      "source": [
        "<a href=\"https://colab.research.google.com/github/Robert-Gomez-AI/HeartFailure/blob/main/M3U5_fase_4_Preparacion_de_los_datos.ipynb\" target=\"_parent\"><img src=\"https://colab.research.google.com/assets/colab-badge.svg\" alt=\"Open In Colab\"/></a>"
      ]
    },
    {
      "cell_type": "markdown",
      "source": [
        "<img src = \"https://drive.google.com/uc?export=view&id=1wuCtg5UbqCfKDczKQmweW9bgUDSY2t9a\" alt = \"Encabezado MLDS\" width = \"100%\">  </img>"
      ],
      "metadata": {
        "id": "2qrgS_sCJquS"
      }
    },
    {
      "cell_type": "markdown",
      "source": [
        "#**Integrantes:**\n",
        "---\n",
        "  - Yojhan Leandro Roldan Robles: yroldan@unal.edu.co\n",
        "\n",
        "  -Daniela Mejia Castro: dmejiac@udistrital.edu.co\n",
        "\n",
        "  -Robert Gomez: rgomezp@unal.edu.co"
      ],
      "metadata": {
        "id": "IoVFwtXYafLU"
      }
    },
    {
      "cell_type": "markdown",
      "metadata": {
        "id": "fb006272"
      },
      "source": [
        "# **Preparación de los datos**\n",
        "---\n",
        "\n",
        "Este notebook es una plantilla que le puede servir como guía para el cuarto entregable del proyecto aplicado."
      ]
    },
    {
      "cell_type": "code",
      "source": [
        "# Librerias para cargar y manipular los datos\n",
        "import requests as re\n",
        "import pandas as pd\n",
        "#Librerias nlp\n",
        "\n",
        "import nltk\n",
        "from nltk.corpus import stopwords\n",
        "from nltk.tokenize import word_tokenize\n",
        "from collections import Counter\n",
        "from wordcloud import WordCloud\n",
        "import matplotlib.pyplot as plt\n",
        "import string\n",
        "import seaborn as sns"
      ],
      "metadata": {
        "id": "tYd8wHQoMThJ"
      },
      "execution_count": null,
      "outputs": []
    },
    {
      "cell_type": "code",
      "source": [
        "#Descarga de los datos\n",
        "url= \"https://datasets-server.huggingface.co/rows?dataset=dair-ai%2Femotion&config=split&split=train&offset=0&length=100\"\n",
        "def get_data(url):\n",
        "  get= re.get(url)\n",
        "  dict_df=dict(get.json())\n",
        "  data=[row[\"row\"] for row in dict_df[\"rows\"]]\n",
        "  df = pd.DataFrame(data)\n",
        "  return df\n",
        "\n",
        "\n",
        "\n",
        "# Descargar recursos necesarios de NLTK\n",
        "nltk.download('punkt')\n",
        "nltk.download('stopwords')"
      ],
      "metadata": {
        "id": "QTVGhh9DMck4",
        "outputId": "c9c94115-39d3-4c21-fad3-f830664ed646",
        "colab": {
          "base_uri": "https://localhost:8080/"
        }
      },
      "execution_count": null,
      "outputs": [
        {
          "output_type": "stream",
          "name": "stderr",
          "text": [
            "[nltk_data] Downloading package punkt to /root/nltk_data...\n",
            "[nltk_data]   Unzipping tokenizers/punkt.zip.\n",
            "[nltk_data] Downloading package stopwords to /root/nltk_data...\n",
            "[nltk_data]   Unzipping corpora/stopwords.zip.\n"
          ]
        },
        {
          "output_type": "execute_result",
          "data": {
            "text/plain": [
              "True"
            ]
          },
          "metadata": {},
          "execution_count": 2
        }
      ]
    },
    {
      "cell_type": "code",
      "source": [
        "#Importar los datos y almacenarlos en Dataframe df\n",
        "df=get_data(url)"
      ],
      "metadata": {
        "id": "zo6Qf4m4MvSo"
      },
      "execution_count": null,
      "outputs": []
    },
    {
      "cell_type": "markdown",
      "metadata": {
        "id": "f6de2158"
      },
      "source": [
        "## **1. Análisis de calidad de los datos**\n",
        "---\n",
        "\n",
        "Describa la estructura y la naturaleza de los datos antes de comenzar con el análisis en profundidad."
      ]
    },
    {
      "cell_type": "markdown",
      "metadata": {
        "id": "447ad6f5"
      },
      "source": [
        "### **1.1. Resumen de la calidad de los datos**\n",
        "---\n",
        "\n",
        "- ¿Se detecta la ausencia de datos, la presencia de documentos vacíos o la existencia de datos de baja calidad en el conjunto?\n",
        "\n",
        "  **No, en general se encuentra que el dataset contiene y brinda información relevante con respecto al objeto del analisis. Se evidencia que todos y cada uno de los elementos del conjunto de datos contiene texto y su respectiva clasificación.**\n",
        "- ¿Se identifican documentos ilegibles o con dificultades de codificación durante la revisión del conjunto de datos?\n",
        "\n",
        "  **Si, teniendo el cuenta que el objetivo del analisis es poder identificar y clasificar el sentimiento de cada tweet es importante extraer aquellas palabras o tokens que puedan brindar información relevante para su clasificación, por lo que tokens que representen signos de puntuación o que no aporten a la semantica de la oración (stop words como articulos o conectores) seran excluidos.**\n",
        "- ¿Se observa una diversidad de formatos en el conjunto de datos que pueda dificultar su consistencia o comprensión?\n",
        "\n",
        "  **Partiendo del hecho de que estamos procesando datos no estructurados como los son los tweets, nos enfrentamos a un formato que por naturaleza tiene cierto grado de complejidad. Sin embargo, el formato de texto para los tweets y numero para las etiquetas no presentan variaciones ni inconsistencias no contempladas previamente.**\n",
        "- ¿Se identificaron y abordan posibles problemas, como valores atípicos, duplicados o datos faltantes?\n",
        "\n",
        "  **No se evidencia presencia de valores faltantes o duplicados. Por otro lado, los token atipicos como los signos de puntuación y stop words seran removidos para evitar su interferencia en posteriores analisis.**\n",
        "\n",
        "\n"
      ]
    },
    {
      "cell_type": "code",
      "source": [
        "#Valores de label\n",
        "labels=sorted(df[\"label\"].unique())\n",
        "print(f'Etiquetas del conjunto de datos:\\n{labels}')\n",
        "\n",
        "#Etiquetas reals\n",
        "feelings=['sadness','joy','love','anger','fear','surprise']\n",
        "print(f'\\nSentimientos del conjunto de datos:\\n{feelings}')\n",
        "\n",
        "#Diccionario de etiquetas\n",
        "dic_labels={}\n",
        "for i,j in enumerate(labels):\n",
        "  dic_labels[j]=feelings[i]\n",
        "print(f'\\nDiccionario de asignación de etiquetas:\\n{dic_labels}')"
      ],
      "metadata": {
        "id": "dFGwEE5cM43y",
        "outputId": "6617a64b-5da1-439f-885a-a3bc90d74652",
        "colab": {
          "base_uri": "https://localhost:8080/"
        }
      },
      "execution_count": null,
      "outputs": [
        {
          "output_type": "stream",
          "name": "stdout",
          "text": [
            "Etiquetas del conjunto de datos:\n",
            "[0, 1, 2, 3, 4, 5]\n",
            "\n",
            "Sentimientos del conjunto de datos:\n",
            "['sadness', 'joy', 'love', 'anger', 'fear', 'surprise']\n",
            "\n",
            "Diccionario de asignación de etiquetas:\n",
            "{0: 'sadness', 1: 'joy', 2: 'love', 3: 'anger', 4: 'fear', 5: 'surprise'}\n"
          ]
        }
      ]
    },
    {
      "cell_type": "code",
      "source": [
        "df.sample(10)"
      ],
      "metadata": {
        "id": "IMtqdwYpPeJm",
        "outputId": "d3bc38b2-27eb-461f-c108-46fa3107f55e",
        "colab": {
          "base_uri": "https://localhost:8080/",
          "height": 352
        }
      },
      "execution_count": null,
      "outputs": [
        {
          "output_type": "execute_result",
          "data": {
            "text/plain": [
              "                                                 text  label\n",
              "51  i found myself feeling a little discouraged th...      0\n",
              "98  i hear are owners who feel victimized by their...      0\n",
              "52                         i feel selfish and spoiled      3\n",
              "88  i feel so worthless during those times i was s...      0\n",
              "2    im grabbing a minute to post i feel greedy wrong      3\n",
              "83  i remember feeling so hellip furious with the ...      3\n",
              "84  i feel very happy and excited since i learned ...      1\n",
              "91  im feeling bitter today my mood has been stran...      3\n",
              "31  i remember feeling acutely distressed for a fe...      4\n",
              "77  i think feelings are one of nay the most impor...      1"
            ],
            "text/html": [
              "\n",
              "  <div id=\"df-c96c2b20-d796-43f6-b676-72e5ac865025\" class=\"colab-df-container\">\n",
              "    <div>\n",
              "<style scoped>\n",
              "    .dataframe tbody tr th:only-of-type {\n",
              "        vertical-align: middle;\n",
              "    }\n",
              "\n",
              "    .dataframe tbody tr th {\n",
              "        vertical-align: top;\n",
              "    }\n",
              "\n",
              "    .dataframe thead th {\n",
              "        text-align: right;\n",
              "    }\n",
              "</style>\n",
              "<table border=\"1\" class=\"dataframe\">\n",
              "  <thead>\n",
              "    <tr style=\"text-align: right;\">\n",
              "      <th></th>\n",
              "      <th>text</th>\n",
              "      <th>label</th>\n",
              "    </tr>\n",
              "  </thead>\n",
              "  <tbody>\n",
              "    <tr>\n",
              "      <th>51</th>\n",
              "      <td>i found myself feeling a little discouraged th...</td>\n",
              "      <td>0</td>\n",
              "    </tr>\n",
              "    <tr>\n",
              "      <th>98</th>\n",
              "      <td>i hear are owners who feel victimized by their...</td>\n",
              "      <td>0</td>\n",
              "    </tr>\n",
              "    <tr>\n",
              "      <th>52</th>\n",
              "      <td>i feel selfish and spoiled</td>\n",
              "      <td>3</td>\n",
              "    </tr>\n",
              "    <tr>\n",
              "      <th>88</th>\n",
              "      <td>i feel so worthless during those times i was s...</td>\n",
              "      <td>0</td>\n",
              "    </tr>\n",
              "    <tr>\n",
              "      <th>2</th>\n",
              "      <td>im grabbing a minute to post i feel greedy wrong</td>\n",
              "      <td>3</td>\n",
              "    </tr>\n",
              "    <tr>\n",
              "      <th>83</th>\n",
              "      <td>i remember feeling so hellip furious with the ...</td>\n",
              "      <td>3</td>\n",
              "    </tr>\n",
              "    <tr>\n",
              "      <th>84</th>\n",
              "      <td>i feel very happy and excited since i learned ...</td>\n",
              "      <td>1</td>\n",
              "    </tr>\n",
              "    <tr>\n",
              "      <th>91</th>\n",
              "      <td>im feeling bitter today my mood has been stran...</td>\n",
              "      <td>3</td>\n",
              "    </tr>\n",
              "    <tr>\n",
              "      <th>31</th>\n",
              "      <td>i remember feeling acutely distressed for a fe...</td>\n",
              "      <td>4</td>\n",
              "    </tr>\n",
              "    <tr>\n",
              "      <th>77</th>\n",
              "      <td>i think feelings are one of nay the most impor...</td>\n",
              "      <td>1</td>\n",
              "    </tr>\n",
              "  </tbody>\n",
              "</table>\n",
              "</div>\n",
              "    <div class=\"colab-df-buttons\">\n",
              "\n",
              "  <div class=\"colab-df-container\">\n",
              "    <button class=\"colab-df-convert\" onclick=\"convertToInteractive('df-c96c2b20-d796-43f6-b676-72e5ac865025')\"\n",
              "            title=\"Convert this dataframe to an interactive table.\"\n",
              "            style=\"display:none;\">\n",
              "\n",
              "  <svg xmlns=\"http://www.w3.org/2000/svg\" height=\"24px\" viewBox=\"0 -960 960 960\">\n",
              "    <path d=\"M120-120v-720h720v720H120Zm60-500h600v-160H180v160Zm220 220h160v-160H400v160Zm0 220h160v-160H400v160ZM180-400h160v-160H180v160Zm440 0h160v-160H620v160ZM180-180h160v-160H180v160Zm440 0h160v-160H620v160Z\"/>\n",
              "  </svg>\n",
              "    </button>\n",
              "\n",
              "  <style>\n",
              "    .colab-df-container {\n",
              "      display:flex;\n",
              "      gap: 12px;\n",
              "    }\n",
              "\n",
              "    .colab-df-convert {\n",
              "      background-color: #E8F0FE;\n",
              "      border: none;\n",
              "      border-radius: 50%;\n",
              "      cursor: pointer;\n",
              "      display: none;\n",
              "      fill: #1967D2;\n",
              "      height: 32px;\n",
              "      padding: 0 0 0 0;\n",
              "      width: 32px;\n",
              "    }\n",
              "\n",
              "    .colab-df-convert:hover {\n",
              "      background-color: #E2EBFA;\n",
              "      box-shadow: 0px 1px 2px rgba(60, 64, 67, 0.3), 0px 1px 3px 1px rgba(60, 64, 67, 0.15);\n",
              "      fill: #174EA6;\n",
              "    }\n",
              "\n",
              "    .colab-df-buttons div {\n",
              "      margin-bottom: 4px;\n",
              "    }\n",
              "\n",
              "    [theme=dark] .colab-df-convert {\n",
              "      background-color: #3B4455;\n",
              "      fill: #D2E3FC;\n",
              "    }\n",
              "\n",
              "    [theme=dark] .colab-df-convert:hover {\n",
              "      background-color: #434B5C;\n",
              "      box-shadow: 0px 1px 3px 1px rgba(0, 0, 0, 0.15);\n",
              "      filter: drop-shadow(0px 1px 2px rgba(0, 0, 0, 0.3));\n",
              "      fill: #FFFFFF;\n",
              "    }\n",
              "  </style>\n",
              "\n",
              "    <script>\n",
              "      const buttonEl =\n",
              "        document.querySelector('#df-c96c2b20-d796-43f6-b676-72e5ac865025 button.colab-df-convert');\n",
              "      buttonEl.style.display =\n",
              "        google.colab.kernel.accessAllowed ? 'block' : 'none';\n",
              "\n",
              "      async function convertToInteractive(key) {\n",
              "        const element = document.querySelector('#df-c96c2b20-d796-43f6-b676-72e5ac865025');\n",
              "        const dataTable =\n",
              "          await google.colab.kernel.invokeFunction('convertToInteractive',\n",
              "                                                    [key], {});\n",
              "        if (!dataTable) return;\n",
              "\n",
              "        const docLinkHtml = 'Like what you see? Visit the ' +\n",
              "          '<a target=\"_blank\" href=https://colab.research.google.com/notebooks/data_table.ipynb>data table notebook</a>'\n",
              "          + ' to learn more about interactive tables.';\n",
              "        element.innerHTML = '';\n",
              "        dataTable['output_type'] = 'display_data';\n",
              "        await google.colab.output.renderOutput(dataTable, element);\n",
              "        const docLink = document.createElement('div');\n",
              "        docLink.innerHTML = docLinkHtml;\n",
              "        element.appendChild(docLink);\n",
              "      }\n",
              "    </script>\n",
              "  </div>\n",
              "\n",
              "\n",
              "<div id=\"df-d323b630-b751-4a09-aaf1-dc07f1ba2136\">\n",
              "  <button class=\"colab-df-quickchart\" onclick=\"quickchart('df-d323b630-b751-4a09-aaf1-dc07f1ba2136')\"\n",
              "            title=\"Suggest charts\"\n",
              "            style=\"display:none;\">\n",
              "\n",
              "<svg xmlns=\"http://www.w3.org/2000/svg\" height=\"24px\"viewBox=\"0 0 24 24\"\n",
              "     width=\"24px\">\n",
              "    <g>\n",
              "        <path d=\"M19 3H5c-1.1 0-2 .9-2 2v14c0 1.1.9 2 2 2h14c1.1 0 2-.9 2-2V5c0-1.1-.9-2-2-2zM9 17H7v-7h2v7zm4 0h-2V7h2v10zm4 0h-2v-4h2v4z\"/>\n",
              "    </g>\n",
              "</svg>\n",
              "  </button>\n",
              "\n",
              "<style>\n",
              "  .colab-df-quickchart {\n",
              "      --bg-color: #E8F0FE;\n",
              "      --fill-color: #1967D2;\n",
              "      --hover-bg-color: #E2EBFA;\n",
              "      --hover-fill-color: #174EA6;\n",
              "      --disabled-fill-color: #AAA;\n",
              "      --disabled-bg-color: #DDD;\n",
              "  }\n",
              "\n",
              "  [theme=dark] .colab-df-quickchart {\n",
              "      --bg-color: #3B4455;\n",
              "      --fill-color: #D2E3FC;\n",
              "      --hover-bg-color: #434B5C;\n",
              "      --hover-fill-color: #FFFFFF;\n",
              "      --disabled-bg-color: #3B4455;\n",
              "      --disabled-fill-color: #666;\n",
              "  }\n",
              "\n",
              "  .colab-df-quickchart {\n",
              "    background-color: var(--bg-color);\n",
              "    border: none;\n",
              "    border-radius: 50%;\n",
              "    cursor: pointer;\n",
              "    display: none;\n",
              "    fill: var(--fill-color);\n",
              "    height: 32px;\n",
              "    padding: 0;\n",
              "    width: 32px;\n",
              "  }\n",
              "\n",
              "  .colab-df-quickchart:hover {\n",
              "    background-color: var(--hover-bg-color);\n",
              "    box-shadow: 0 1px 2px rgba(60, 64, 67, 0.3), 0 1px 3px 1px rgba(60, 64, 67, 0.15);\n",
              "    fill: var(--button-hover-fill-color);\n",
              "  }\n",
              "\n",
              "  .colab-df-quickchart-complete:disabled,\n",
              "  .colab-df-quickchart-complete:disabled:hover {\n",
              "    background-color: var(--disabled-bg-color);\n",
              "    fill: var(--disabled-fill-color);\n",
              "    box-shadow: none;\n",
              "  }\n",
              "\n",
              "  .colab-df-spinner {\n",
              "    border: 2px solid var(--fill-color);\n",
              "    border-color: transparent;\n",
              "    border-bottom-color: var(--fill-color);\n",
              "    animation:\n",
              "      spin 1s steps(1) infinite;\n",
              "  }\n",
              "\n",
              "  @keyframes spin {\n",
              "    0% {\n",
              "      border-color: transparent;\n",
              "      border-bottom-color: var(--fill-color);\n",
              "      border-left-color: var(--fill-color);\n",
              "    }\n",
              "    20% {\n",
              "      border-color: transparent;\n",
              "      border-left-color: var(--fill-color);\n",
              "      border-top-color: var(--fill-color);\n",
              "    }\n",
              "    30% {\n",
              "      border-color: transparent;\n",
              "      border-left-color: var(--fill-color);\n",
              "      border-top-color: var(--fill-color);\n",
              "      border-right-color: var(--fill-color);\n",
              "    }\n",
              "    40% {\n",
              "      border-color: transparent;\n",
              "      border-right-color: var(--fill-color);\n",
              "      border-top-color: var(--fill-color);\n",
              "    }\n",
              "    60% {\n",
              "      border-color: transparent;\n",
              "      border-right-color: var(--fill-color);\n",
              "    }\n",
              "    80% {\n",
              "      border-color: transparent;\n",
              "      border-right-color: var(--fill-color);\n",
              "      border-bottom-color: var(--fill-color);\n",
              "    }\n",
              "    90% {\n",
              "      border-color: transparent;\n",
              "      border-bottom-color: var(--fill-color);\n",
              "    }\n",
              "  }\n",
              "</style>\n",
              "\n",
              "  <script>\n",
              "    async function quickchart(key) {\n",
              "      const quickchartButtonEl =\n",
              "        document.querySelector('#' + key + ' button');\n",
              "      quickchartButtonEl.disabled = true;  // To prevent multiple clicks.\n",
              "      quickchartButtonEl.classList.add('colab-df-spinner');\n",
              "      try {\n",
              "        const charts = await google.colab.kernel.invokeFunction(\n",
              "            'suggestCharts', [key], {});\n",
              "      } catch (error) {\n",
              "        console.error('Error during call to suggestCharts:', error);\n",
              "      }\n",
              "      quickchartButtonEl.classList.remove('colab-df-spinner');\n",
              "      quickchartButtonEl.classList.add('colab-df-quickchart-complete');\n",
              "    }\n",
              "    (() => {\n",
              "      let quickchartButtonEl =\n",
              "        document.querySelector('#df-d323b630-b751-4a09-aaf1-dc07f1ba2136 button');\n",
              "      quickchartButtonEl.style.display =\n",
              "        google.colab.kernel.accessAllowed ? 'block' : 'none';\n",
              "    })();\n",
              "  </script>\n",
              "</div>\n",
              "    </div>\n",
              "  </div>\n"
            ],
            "application/vnd.google.colaboratory.intrinsic+json": {
              "type": "dataframe",
              "summary": "{\n  \"name\": \"df\",\n  \"rows\": 10,\n  \"fields\": [\n    {\n      \"column\": \"text\",\n      \"properties\": {\n        \"dtype\": \"string\",\n        \"num_unique_values\": 10,\n        \"samples\": [\n          \"i remember feeling acutely distressed for a few days\",\n          \"i hear are owners who feel victimized by their associations the associations attorneys or the property manager\",\n          \"i remember feeling so hellip furious with the shooter\"\n        ],\n        \"semantic_type\": \"\",\n        \"description\": \"\"\n      }\n    },\n    {\n      \"column\": \"label\",\n      \"properties\": {\n        \"dtype\": \"number\",\n        \"std\": 1,\n        \"min\": 0,\n        \"max\": 4,\n        \"num_unique_values\": 4,\n        \"samples\": [\n          3,\n          4,\n          0\n        ],\n        \"semantic_type\": \"\",\n        \"description\": \"\"\n      }\n    }\n  ]\n}"
            }
          },
          "metadata": {},
          "execution_count": 33
        }
      ]
    },
    {
      "cell_type": "markdown",
      "source": [
        "**Se logra evidenciar un desbalance significativo en la distribución de las etiquetas de datos.**"
      ],
      "metadata": {
        "id": "oFD45MKpYFIG"
      }
    },
    {
      "cell_type": "code",
      "source": [
        "# Calcular la frecuencia de cada elemento en la serie\n",
        "frecuencias = df['label'].map(dic_labels).value_counts().reset_index()\n",
        "frecuencias.columns = ['Label', 'Frecuencia']\n",
        "\n",
        "# Crear el gráfico de barras con seaborn\n",
        "plt.figure(figsize=(10, 6))\n",
        "axs=sns.barplot(x='Label', y='Frecuencia', data=frecuencias, palette='viridis')\n",
        "\n",
        "# Añadir títulos y etiquetas\n",
        "plt.title('Frecuencia de cada sentimiento')\n",
        "plt.xlabel('Sentimiento')\n",
        "plt.ylabel('Frecuencia')\n",
        "# Mostrar el gráfico\n",
        "plt.show()"
      ],
      "metadata": {
        "id": "RzIcI9wQQSMR",
        "outputId": "c9c84618-9b9b-41d5-864a-99deb4c5bb01",
        "colab": {
          "base_uri": "https://localhost:8080/",
          "height": 651
        }
      },
      "execution_count": null,
      "outputs": [
        {
          "output_type": "stream",
          "name": "stderr",
          "text": [
            "<ipython-input-51-1cfd30d92f8e>:7: FutureWarning: \n",
            "\n",
            "Passing `palette` without assigning `hue` is deprecated and will be removed in v0.14.0. Assign the `x` variable to `hue` and set `legend=False` for the same effect.\n",
            "\n",
            "  axs=sns.barplot(x='Label', y='Frecuencia', data=frecuencias, palette='viridis')\n"
          ]
        },
        {
          "output_type": "display_data",
          "data": {
            "text/plain": [
              "<Figure size 1000x600 with 1 Axes>"
            ],
            "image/png": "[encoded data removed]"
          },
          "metadata": {}
        }
      ]
    },
    {
      "cell_type": "code",
      "source": [
        "#Lineas sin texto\n",
        "df[df['text'].apply(lambda x: len(x))<=0]"
      ],
      "metadata": {
        "id": "8yGI2mHXVE-a",
        "outputId": "7fd66a01-042e-475d-e0c6-26fb0aa05086",
        "colab": {
          "base_uri": "https://localhost:8080/",
          "height": 53
        }
      },
      "execution_count": null,
      "outputs": [
        {
          "output_type": "execute_result",
          "data": {
            "text/plain": [
              "Empty DataFrame\n",
              "Columns: [text, label]\n",
              "Index: []"
            ],
            "text/html": [
              "\n",
              "  <div id=\"df-696f83e3-d4d9-447d-a2f4-631a88845080\" class=\"colab-df-container\">\n",
              "    <div>\n",
              "<style scoped>\n",
              "    .dataframe tbody tr th:only-of-type {\n",
              "        vertical-align: middle;\n",
              "    }\n",
              "\n",
              "    .dataframe tbody tr th {\n",
              "        vertical-align: top;\n",
              "    }\n",
              "\n",
              "    .dataframe thead th {\n",
              "        text-align: right;\n",
              "    }\n",
              "</style>\n",
              "<table border=\"1\" class=\"dataframe\">\n",
              "  <thead>\n",
              "    <tr style=\"text-align: right;\">\n",
              "      <th></th>\n",
              "      <th>text</th>\n",
              "      <th>label</th>\n",
              "    </tr>\n",
              "  </thead>\n",
              "  <tbody>\n",
              "  </tbody>\n",
              "</table>\n",
              "</div>\n",
              "    <div class=\"colab-df-buttons\">\n",
              "\n",
              "  <div class=\"colab-df-container\">\n",
              "    <button class=\"colab-df-convert\" onclick=\"convertToInteractive('df-696f83e3-d4d9-447d-a2f4-631a88845080')\"\n",
              "            title=\"Convert this dataframe to an interactive table.\"\n",
              "            style=\"display:none;\">\n",
              "\n",
              "  <svg xmlns=\"http://www.w3.org/2000/svg\" height=\"24px\" viewBox=\"0 -960 960 960\">\n",
              "    <path d=\"M120-120v-720h720v720H120Zm60-500h600v-160H180v160Zm220 220h160v-160H400v160Zm0 220h160v-160H400v160ZM180-400h160v-160H180v160Zm440 0h160v-160H620v160ZM180-180h160v-160H180v160Zm440 0h160v-160H620v160Z\"/>\n",
              "  </svg>\n",
              "    </button>\n",
              "\n",
              "  <style>\n",
              "    .colab-df-container {\n",
              "      display:flex;\n",
              "      gap: 12px;\n",
              "    }\n",
              "\n",
              "    .colab-df-convert {\n",
              "      background-color: #E8F0FE;\n",
              "      border: none;\n",
              "      border-radius: 50%;\n",
              "      cursor: pointer;\n",
              "      display: none;\n",
              "      fill: #1967D2;\n",
              "      height: 32px;\n",
              "      padding: 0 0 0 0;\n",
              "      width: 32px;\n",
              "    }\n",
              "\n",
              "    .colab-df-convert:hover {\n",
              "      background-color: #E2EBFA;\n",
              "      box-shadow: 0px 1px 2px rgba(60, 64, 67, 0.3), 0px 1px 3px 1px rgba(60, 64, 67, 0.15);\n",
              "      fill: #174EA6;\n",
              "    }\n",
              "\n",
              "    .colab-df-buttons div {\n",
              "      margin-bottom: 4px;\n",
              "    }\n",
              "\n",
              "    [theme=dark] .colab-df-convert {\n",
              "      background-color: #3B4455;\n",
              "      fill: #D2E3FC;\n",
              "    }\n",
              "\n",
              "    [theme=dark] .colab-df-convert:hover {\n",
              "      background-color: #434B5C;\n",
              "      box-shadow: 0px 1px 3px 1px rgba(0, 0, 0, 0.15);\n",
              "      filter: drop-shadow(0px 1px 2px rgba(0, 0, 0, 0.3));\n",
              "      fill: #FFFFFF;\n",
              "    }\n",
              "  </style>\n",
              "\n",
              "    <script>\n",
              "      const buttonEl =\n",
              "        document.querySelector('#df-696f83e3-d4d9-447d-a2f4-631a88845080 button.colab-df-convert');\n",
              "      buttonEl.style.display =\n",
              "        google.colab.kernel.accessAllowed ? 'block' : 'none';\n",
              "\n",
              "      async function convertToInteractive(key) {\n",
              "        const element = document.querySelector('#df-696f83e3-d4d9-447d-a2f4-631a88845080');\n",
              "        const dataTable =\n",
              "          await google.colab.kernel.invokeFunction('convertToInteractive',\n",
              "                                                    [key], {});\n",
              "        if (!dataTable) return;\n",
              "\n",
              "        const docLinkHtml = 'Like what you see? Visit the ' +\n",
              "          '<a target=\"_blank\" href=https://colab.research.google.com/notebooks/data_table.ipynb>data table notebook</a>'\n",
              "          + ' to learn more about interactive tables.';\n",
              "        element.innerHTML = '';\n",
              "        dataTable['output_type'] = 'display_data';\n",
              "        await google.colab.output.renderOutput(dataTable, element);\n",
              "        const docLink = document.createElement('div');\n",
              "        docLink.innerHTML = docLinkHtml;\n",
              "        element.appendChild(docLink);\n",
              "      }\n",
              "    </script>\n",
              "  </div>\n",
              "\n",
              "    </div>\n",
              "  </div>\n"
            ],
            "application/vnd.google.colaboratory.intrinsic+json": {
              "type": "dataframe",
              "repr_error": "Out of range float values are not JSON compliant: nan"
            }
          },
          "metadata": {},
          "execution_count": 65
        }
      ]
    },
    {
      "cell_type": "code",
      "source": [
        "#Explorar tweets duplicados\n",
        "df[df.duplicated(subset='text')]"
      ],
      "metadata": {
        "id": "ri5Wo0D6XjRJ",
        "outputId": "bd786cad-487f-47b2-dded-98802216b830",
        "colab": {
          "base_uri": "https://localhost:8080/",
          "height": 53
        }
      },
      "execution_count": null,
      "outputs": [
        {
          "output_type": "execute_result",
          "data": {
            "text/plain": [
              "Empty DataFrame\n",
              "Columns: [text, label]\n",
              "Index: []"
            ],
            "text/html": [
              "\n",
              "  <div id=\"df-7cdfd2f6-6e64-4d00-a697-dca3abf53c29\" class=\"colab-df-container\">\n",
              "    <div>\n",
              "<style scoped>\n",
              "    .dataframe tbody tr th:only-of-type {\n",
              "        vertical-align: middle;\n",
              "    }\n",
              "\n",
              "    .dataframe tbody tr th {\n",
              "        vertical-align: top;\n",
              "    }\n",
              "\n",
              "    .dataframe thead th {\n",
              "        text-align: right;\n",
              "    }\n",
              "</style>\n",
              "<table border=\"1\" class=\"dataframe\">\n",
              "  <thead>\n",
              "    <tr style=\"text-align: right;\">\n",
              "      <th></th>\n",
              "      <th>text</th>\n",
              "      <th>label</th>\n",
              "    </tr>\n",
              "  </thead>\n",
              "  <tbody>\n",
              "  </tbody>\n",
              "</table>\n",
              "</div>\n",
              "    <div class=\"colab-df-buttons\">\n",
              "\n",
              "  <div class=\"colab-df-container\">\n",
              "    <button class=\"colab-df-convert\" onclick=\"convertToInteractive('df-7cdfd2f6-6e64-4d00-a697-dca3abf53c29')\"\n",
              "            title=\"Convert this dataframe to an interactive table.\"\n",
              "            style=\"display:none;\">\n",
              "\n",
              "  <svg xmlns=\"http://www.w3.org/2000/svg\" height=\"24px\" viewBox=\"0 -960 960 960\">\n",
              "    <path d=\"M120-120v-720h720v720H120Zm60-500h600v-160H180v160Zm220 220h160v-160H400v160Zm0 220h160v-160H400v160ZM180-400h160v-160H180v160Zm440 0h160v-160H620v160ZM180-180h160v-160H180v160Zm440 0h160v-160H620v160Z\"/>\n",
              "  </svg>\n",
              "    </button>\n",
              "\n",
              "  <style>\n",
              "    .colab-df-container {\n",
              "      display:flex;\n",
              "      gap: 12px;\n",
              "    }\n",
              "\n",
              "    .colab-df-convert {\n",
              "      background-color: #E8F0FE;\n",
              "      border: none;\n",
              "      border-radius: 50%;\n",
              "      cursor: pointer;\n",
              "      display: none;\n",
              "      fill: #1967D2;\n",
              "      height: 32px;\n",
              "      padding: 0 0 0 0;\n",
              "      width: 32px;\n",
              "    }\n",
              "\n",
              "    .colab-df-convert:hover {\n",
              "      background-color: #E2EBFA;\n",
              "      box-shadow: 0px 1px 2px rgba(60, 64, 67, 0.3), 0px 1px 3px 1px rgba(60, 64, 67, 0.15);\n",
              "      fill: #174EA6;\n",
              "    }\n",
              "\n",
              "    .colab-df-buttons div {\n",
              "      margin-bottom: 4px;\n",
              "    }\n",
              "\n",
              "    [theme=dark] .colab-df-convert {\n",
              "      background-color: #3B4455;\n",
              "      fill: #D2E3FC;\n",
              "    }\n",
              "\n",
              "    [theme=dark] .colab-df-convert:hover {\n",
              "      background-color: #434B5C;\n",
              "      box-shadow: 0px 1px 3px 1px rgba(0, 0, 0, 0.15);\n",
              "      filter: drop-shadow(0px 1px 2px rgba(0, 0, 0, 0.3));\n",
              "      fill: #FFFFFF;\n",
              "    }\n",
              "  </style>\n",
              "\n",
              "    <script>\n",
              "      const buttonEl =\n",
              "        document.querySelector('#df-7cdfd2f6-6e64-4d00-a697-dca3abf53c29 button.colab-df-convert');\n",
              "      buttonEl.style.display =\n",
              "        google.colab.kernel.accessAllowed ? 'block' : 'none';\n",
              "\n",
              "      async function convertToInteractive(key) {\n",
              "        const element = document.querySelector('#df-7cdfd2f6-6e64-4d00-a697-dca3abf53c29');\n",
              "        const dataTable =\n",
              "          await google.colab.kernel.invokeFunction('convertToInteractive',\n",
              "                                                    [key], {});\n",
              "        if (!dataTable) return;\n",
              "\n",
              "        const docLinkHtml = 'Like what you see? Visit the ' +\n",
              "          '<a target=\"_blank\" href=https://colab.research.google.com/notebooks/data_table.ipynb>data table notebook</a>'\n",
              "          + ' to learn more about interactive tables.';\n",
              "        element.innerHTML = '';\n",
              "        dataTable['output_type'] = 'display_data';\n",
              "        await google.colab.output.renderOutput(dataTable, element);\n",
              "        const docLink = document.createElement('div');\n",
              "        docLink.innerHTML = docLinkHtml;\n",
              "        element.appendChild(docLink);\n",
              "      }\n",
              "    </script>\n",
              "  </div>\n",
              "\n",
              "    </div>\n",
              "  </div>\n"
            ],
            "application/vnd.google.colaboratory.intrinsic+json": {
              "type": "dataframe",
              "repr_error": "Out of range float values are not JSON compliant: nan"
            }
          },
          "metadata": {},
          "execution_count": 67
        }
      ]
    },
    {
      "cell_type": "markdown",
      "metadata": {
        "id": "eYBZoWP_f3RK"
      },
      "source": [
        "## **2. Limpieza de los Datos**\n",
        "---\n",
        "\n",
        "La elección de las técnicas de preprocesamiento puede diferir en cada conjunto de datos. Recuerde que es posible aplicar, según sea necesario (no necesariamente todas), las técnicas generales que se han explorado en el curso. La elección dependerá del tipo de datos con el que esté trabajando, ya sea imágenes, datos estructurados, textos, entre otros.\n",
        "\n",
        "- ¿Cuáles fueron los criterios utilizados para identificar y tratar valores atípicos, datos faltantes o cualquier otra anomalía en el conjunto de datos durante el proceso de limpieza?\n",
        "\n",
        "  **Para la limpieza de datos se implementa se implementa principalmente la libreria NLKT, con la cual se realiza el tokenizado de las cadenas de texto, para luego comparar cada uno de los tokens contra listas de palabras a exluir como las stop words. Del mismo modo se implementa el metodo isalnum() para identificar aquellos tokens que contienen caracteres expeciales como signos de puntuación para luego excluirlos. Finalmente, cabe resaltar que se transforman todos los caracteres a minúsculas para evitar diferencias por capitalización.**\n",
        "- ¿Cómo se justificaría la necesidad de cada paso de preprocesamiento en términos de mejora de la calidad de los datos y preparación para el análisis subsiguiente?\n",
        "\n",
        "  **La exlusión de tokens con falta de valor semantico permite que los algoritmmos de procesamiento de lenguaje natural (NLP), que en este caso será una red neuronal, tengan un mejor resultado. Del mismo modo es requerido transformar las cadenas de texto a tokens para que la red neuronal pueda interpretar la información a analizar.**"
      ]
    },
    {
      "cell_type": "code",
      "execution_count": null,
      "metadata": {
        "id": "6PwmOKdyf3RM"
      },
      "outputs": [],
      "source": [
        "def transformar_tweets(df, columna_texto):\n",
        "    \"\"\"\n",
        "    Genera el conteo de frecuencias de palabras de un DataFrame con una columna de texto.\n",
        "\n",
        "    Parámetros:\n",
        "    df (pandas.DataFrame): DataFrame que contiene los textos.\n",
        "    columna_texto (str): Nombre de la columna que contiene los textos.\n",
        "\n",
        "    Retorna:\n",
        "    tokens_limpios: Lista de palabras extraidas de la serie de texto que tengan un significado semantico.\n",
        "    \"\"\"\n",
        "    # Lista de textos de ejemplo\n",
        "    textos = df[columna_texto]\n",
        "\n",
        "    # Concatenar todos los textos en uno solo\n",
        "    texto_concatenado = \" \".join(textos)\n",
        "\n",
        "    # Tokenización\n",
        "    tokens = word_tokenize(texto_concatenado.lower())\n",
        "\n",
        "    # Eliminación de puntuación\n",
        "    tokens = [word for word in tokens if word.isalnum()]\n",
        "\n",
        "    # Eliminación de stopwords\n",
        "    stop_words = set(stopwords.words('english'))\n",
        "    tokens_limpios = [word for word in tokens if word not in stop_words]\n",
        "\n",
        "    return tokens_limpios"
      ]
    },
    {
      "cell_type": "code",
      "source": [
        "#Transformar datos\n",
        "tweets_limpios=transformar_tweets(df,'text')\n",
        "print(tweets_limpios)"
      ],
      "metadata": {
        "id": "YPf9-OdcTJ4y",
        "outputId": "5bd159e1-60bf-436f-e091-a9be007a6223",
        "colab": {
          "base_uri": "https://localhost:8080/"
        }
      },
      "execution_count": null,
      "outputs": [
        {
          "output_type": "stream",
          "name": "stdout",
          "text": [
            "['didnt', 'feel', 'humiliated', 'go', 'feeling', 'hopeless', 'damned', 'hopeful', 'around', 'someone', 'cares', 'awake', 'im', 'grabbing', 'minute', 'post', 'feel', 'greedy', 'wrong', 'ever', 'feeling', 'nostalgic', 'fireplace', 'know', 'still', 'property', 'feeling', 'grouchy', 'ive', 'feeling', 'little', 'burdened', 'lately', 'wasnt', 'sure', 'ive', 'taking', 'milligrams', 'times', 'recommended', 'amount', 'ive', 'fallen', 'asleep', 'lot', 'faster', 'also', 'feel', 'like', 'funny', 'feel', 'confused', 'life', 'teenager', 'jaded', 'year', 'old', 'man', 'petronas', 'years', 'feel', 'petronas', 'performed', 'well', 'made', 'huge', 'profit', 'feel', 'romantic', 'feel', 'like', 'make', 'suffering', 'seeing', 'mean', 'something', 'feel', 'running', 'divine', 'experience', 'expect', 'type', 'spiritual', 'encounter', 'think', 'easiest', 'time', 'year', 'feel', 'dissatisfied', 'feel', 'low', 'energy', 'thirsty', 'immense', 'sympathy', 'general', 'point', 'possible', 'proto', 'writer', 'trying', 'find', 'time', 'write', 'corners', 'life', 'sign', 'agent', 'let', 'alone', 'publishing', 'contract', 'feels', 'little', 'precious', 'feel', 'reassured', 'anxiety', 'side', 'didnt', 'really', 'feel', 'embarrassed', 'feel', 'pretty', 'pathetic', 'time', 'started', 'feeling', 'sentimental', 'dolls', 'child', 'began', 'collection', 'vintage', 'barbie', 'dolls', 'sixties', 'feel', 'compromised', 'skeptical', 'value', 'every', 'unit', 'work', 'put', 'feel', 'irritated', 'rejected', 'without', 'anyone', 'anything', 'saying', 'anything', 'feeling', 'completely', 'overwhelmed', 'two', 'strategies', 'help', 'feel', 'grounded', 'pour', 'heart', 'journal', 'form', 'letter', 'god', 'end', 'list', 'five', 'things', 'grateful', 'feeling', 'amused', 'delighted', 'able', 'help', 'chai', 'lifeline', 'support', 'encouragement', 'great', 'feeling', 'glad', 'able', 'help', 'already', 'feel', 'like', 'fucked', 'though', 'dont', 'usually', 'eat', 'morning', 'still', 'love', 'wish', 'best', 'longer', 'tolerate', 'effect', 'bm', 'lives', 'fact', 'turned', 'bitter', 'angry', 'person', 'always', 'particularly', 'kind', 'people', 'around', 'feeling', 'stressed', 'feel', 'inhibited', 'someone', 'elses', 'kitchen', 'like', 'im', 'painting', 'someone', 'elses', 'picture', 'become', 'overwhelmed', 'feel', 'defeated', 'feel', 'kinda', 'appalled', 'feels', 'like', 'needs', 'explain', 'wide', 'lenghth', 'body', 'measures', 'etc', 'pp', 'feel', 'superior', 'dead', 'chicken', 'grieving', 'child', 'get', 'giddy', 'feeling', 'elegant', 'perfectly', 'fitted', 'pencil', 'skirt', 'remember', 'feeling', 'acutely', 'distressed', 'days', 'seen', 'heard', 'read', 'past', 'couple', 'days', 'left', 'feeling', 'impressed', 'companies', 'climbed', 'hill', 'feeling', 'frustrated', 'id', 'pretty', 'much', 'paced', 'entirely', 'wrong', 'course', 'factor', 'never', 'ever', 'hampered', 'made', 'dent', 'day', 'imagine', 'real', 'life', 'scenario', 'would', 'emotionally', 'connected', 'enough', 'someone', 'feel', 'totally', 'accepted', 'safe', 'morally', 'acceptable', 'close', 'prolonged', 'physical', 'contact', 'sex', 'expected', 'subsequently', 'sure', 'would', 'make', 'feel', 'content', 'anything', 'feeling', 'need', 'creative', 'however', 'want', 'know', 'something', 'someone', 'causing', 'feel', 'less', 'splendid', 'self', 'step', 'away', 'feel', 'bit', 'rude', 'writing', 'elderly', 'gentleman', 'ask', 'gifts', 'feel', 'bit', 'greedy', 'christmas', 'mild', 'greed', 'need', 'need', 'someone', 'need', 'protected', 'feel', 'safe', 'small', 'find', 'season', 'words', 'plan', 'share', 'everyday', 'life', 'stories', 'traveling', 'adventures', 'inspirations', 'handmade', 'creations', 'hope', 'also', 'feel', 'inspired', 'already', 'christmas', 'trees', 'got', 'two', 'feeling', 'festive', 'sure', 'spurring', 'get', 'started', 'book', 'ive', 'worn', 'little', 'concealer', 'days', 'im', 'feeling', 'brave', 'dont', 'want', 'pale', 'perfect', 'feel', 'strongly', 'passionate', 'jerk', 'decides', 'poke', 'make', 'fun', 'us', 'feeling', 'discouraged', 'already', 'robbing', 'peter', 'pay', 'paul', 'get', 'cow', 'year', 'cant', 'afford', 'get', 'cow', 'way', 'feeling', 'listless', 'need', 'new', 'things', 'something', 'different', 'lost', 'special', 'mind', 'worry', 'still', 'sane', 'wanted', 'feel', 'felt', 'reading', 'book', 'know', 'many', 'times', 'said', 'sam', 'special', 'guarantee', 'many', 'times', 'used', 'paragraph', 'tell', 'special', 'let', 'go', 'sad', 'feeling', 'want', 'accepted', 'first', 'home', 'mine', 'boat', 'trip', 'denmark', 'stopped', 'feeling', 'cold', 'began', 'feeling', 'hot', 'need', 'feel', 'dough', 'make', 'sure', 'perfect', 'found', 'feeling', 'little', 'discouraged', 'morning', 'feel', 'selfish', 'spoiled', 'stymied', 'little', 'bit', 'wrote', 'feeling', 'unsure', 'might', 'go', 'somewhere', 'story', 'unintended', 'bag', 'qaf', 'look', 'cryin', 'jacynthe', 'lookin', 'good', 'feelin', 'gorgeous', 'rupaul', 'skins', 'scissor', 'sisters', 'valentine', 'sun', 'fed', 'kayle', 'daddy', 'gerling', 'awake', 'unkind', 'u', 'feel', 'know', 'basically', 'like', 'fake', 'realm', 'science', 'fiction', 'hate', 'living', 'dads', 'roof', 'gives', 'excuse', 'asshole', 'hes', 'providing', 'live', 'think', 'feels', 'needs', 'make', 'feel', 'unwelcome', 'possible', 'ill', 'leave', 'keep', 'feeling', 'pleasantly', 'surprised', 'supportiveness', 'also', 'ease', 'new', 'situations', 'feeling', 'anymore', 'vigorous', 'sexual', 'activity', 'coming', 'yes', 'misspelt', 'cumming', 'days', 'parts', 'begin', 'fall', 'feel', 'mom', 'graceful', 'warm', 'loving', 'smile', 'rob', 'time', 'nurture', 'heal', 'feel', 'talk', 'brother', 'law', 'extremely', 'popular', 'one', 'think', 'stiff', 'ate', 'could', 'feel', 'gentle', 'tingle', 'throughout', 'almost', 'feeling', 'healing', 'taking', 'place', 'cellular', 'level', 'feel', 'like', 'pressured', 'young', 'beautiful', 'thin', 'depending', 'trend', 'girls', 'rejuvenated', 'butt', 'implants', 'began', 'several', 'times', 'week', 'feeling', 'tortured', 'hallucinations', 'moving', 'people', 'figures', 'sounds', 'vibrations', 'nearly', 'finished', 'week', 'detox', 'feel', 'amazing', 'feel', 'selfish', 'read', 'back', 'former', 'posts', 'never', 'asked', 'prayers', 'others', 'never', 'considered', 'may', 'others', 'deserve', 'prayers', 'answered', 'know', 'pain', 'parents', 'feel', 'enraged', 'child', 'becomes', 'violent', 'roller', 'coaster', 'emotions', 'supposed', 'feelings', 'something', 'unpleasant', 'coming', 'suppose', 'truth', 'needs', 'shared', 'havent', 'feeling', 'faithful', 'lately', 'ive', 'dwelled', 'doubt', 'uncertainty', 'faith', 'feeling', 'brave', 'bought', 'clearly', 'makeup', 'feeling', 'miserable', 'c', 'also', 'proudest', 'mum', 'earth', 'figure', 'family', 'loves', 'us', 'matter', 'around', 'anyone', 'else', 'feel', 'embarrassed', 'michelle', 'goes', 'ballistic', 'necessarily', 'think', 'f', 'bombs', 'sex', 'necessary', 'stories', 'feel', 'reassured', 'see', 'print', 'journals', 'feel', 'ovaries', 'aching', 'talking', 'like', 'put', 'feel', 'like', 'much', 'chris', 'mostly', 'took', 'many', 'pictures', 'unimportant', 'stuff', 'im', 'tired', 'book', 'ready', 'finding', 'given', 'unsuitable', 'images', 'feeling', 'blamed', 'result', 'sit', 'well', 'successfully', 'manage', 'stretch', 'mxm', 'canvas', 'feel', 'achievement', 'worthwhile', 'usage', 'money', 'time', 'use', 'canvas', 'future', 'briefs', 'think', 'feelings', 'one', 'nay', 'important', 'things', 'feel', 'completely', 'honored', 'influence', 'young', 'talented', 'fully', 'alive', 'beautiful', 'girl', 'woman', 'feel', 'angered', 'firey', 'feel', 'like', 'miserable', 'piece', 'garbage', 'feel', 'like', 'need', 'make', 'list', 'leanne', 'would', 'appalled', 'thought', 'dont', 'miss', 'anything', 'drove', 'dannika', 'school', 'feeling', 'little', 'bit', 'rushed', 'greeted', 'turned', 'corner', 'remember', 'feeling', 'hellip', 'furious', 'shooter', 'feel', 'happy', 'excited', 'since', 'learned', 'many', 'things', 'feel', 'shows', 'around', 'show', 'horses', 'people', 'trusting', 'relaxed', 'show', 'horses', 'safe', 'quiet', 'handled', 'frequently', 'couple', 'things', 'left', 'make', 'start', 'december', 'done', 'feeling', 'smug', 'think', 'u', 'could', 'make', 'feel', 'realize', 'everything', 'ok', 'feel', 'worthless', 'times', 'struggling', 'finding', 'work', 'able', 'lay', 'bed', 'dark', 'feel', 'terrified', 'least', 'ready', 'meet', 'mom', 'airport', 'feel', 'ever', 'supportive', 'arms', 'around', 'im', 'feeling', 'bitter', 'today', 'mood', 'strange', 'entire', 'day', 'guess', 'mums', 'brother', 'passed', 'away', 'involved', 'car', 'accident', 'bringing', 'present', 'passed', 'form', 'five', 'exams', 'flying', 'colours', 'letting', 'go', 'animosity', 'towards', 'anyone', 'feel', 'wronged', 'talk', 'dogs', 'feel', 'understand', 'words', 'read', 'emotions', 'know', 'supportive', 'decided', 'go', 'home', 'feel', 'like', 'throwing', 'away', 'shitty', 'piece', 'shit', 'paper', 'im', 'starting', 'feel', 'wryly', 'amused', 'banal', 'comedy', 'errors', 'life', 'turning', 'find', 'every', 'body', 'beautiful', 'want', 'people', 'feel', 'vital', 'bodies', 'hear', 'owners', 'feel', 'victimized', 'associations', 'associations', 'attorneys', 'property', 'manager', 'say', 'goodbye', 'fam', 'theyre', 'sad', 'crying', 'feel', 'like', 'heartless', 'bitch', 'hey', 'im', 'pretty', 'excited', 'flying', 'first', 'time', 'know', 'also', 'spend', 'year', 'another', 'country']\n"
          ]
        }
      ]
    },
    {
      "cell_type": "markdown",
      "source": [
        "## **Créditos**\n",
        "---\n",
        "\n",
        "* **Profesor:** [Jorge E. Camargo, PhD](https://dis.unal.edu.co/~jecamargom/)\n",
        "* **Asistentes docentes:**\n",
        "    - [Juan Sebastián Lara Ramírez](https://www.linkedin.com/in/juan-sebastian-lara-ramirez-43570a214/).\n",
        "* **Diseño de imágenes:**\n",
        "    - [Rosa Alejandra Superlano Esquibel](mailto:rsuperlano@unal.edu.co).\n",
        "* **Coordinador de virtualización:**\n",
        "    - [Edder Hernández Forero](https://www.linkedin.com/in/edder-hernandez-forero-28aa8b207/).\n",
        "    \n",
        "**Universidad Nacional de Colombia** - *Facultad de Ingeniería*"
      ],
      "metadata": {
        "id": "2FLj-UiEd91C"
      }
    }
  ]
}