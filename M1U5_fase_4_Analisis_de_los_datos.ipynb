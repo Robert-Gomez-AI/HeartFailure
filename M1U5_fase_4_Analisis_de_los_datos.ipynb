{
  "nbformat": 4,
  "nbformat_minor": 0,
  "metadata": {
    "colab": {
      "provenance": [],
      "include_colab_link": true
    },
    "kernelspec": {
      "name": "python3",
      "display_name": "Python 3"
    },
    "language_info": {
      "name": "python"
    }
  },
  "cells": [
    {
      "cell_type": "markdown",
      "metadata": {
        "id": "view-in-github",
        "colab_type": "text"
      },
      "source": [
        "<a href=\"https://colab.research.google.com/github/Robert-Gomez-AI/HeartFailure/blob/main/M1U5_fase_4_Analisis_de_los_datos.ipynb\" target=\"_parent\"><img src=\"https://colab.research.google.com/assets/colab-badge.svg\" alt=\"Open In Colab\"/></a>"
      ]
    },
    {
      "cell_type": "markdown",
      "source": [
        "<img src = \"https://drive.google.com/uc?export=view&id=1HYrQHu1AE2cEid3BpNxo5KK3tuZF1TCo\" alt = \"Encabezado MLDS\" width = \"100%\">  </img>"
      ],
      "metadata": {
        "id": "2qrgS_sCJquS"
      }
    },
    {
      "cell_type": "markdown",
      "metadata": {
        "id": "fb006272"
      },
      "source": [
        "# **Análisis de datos**\n",
        "---\n",
        "\n",
        "Este notebook es una plantilla que le puede servir como guía para el cuarto entregable del proyecto aplicado."
      ]
    },
    {
      "cell_type": "markdown",
      "metadata": {
        "id": "fdb4c33d"
      },
      "source": [
        "## **0. Integrantes del equipo de trabajo**\n",
        "---\n",
        "\n",
        "Por favor incluya los nombres completos y número de identificación de los integrantes del equipo de trabajo:"
      ]
    },
    {
      "cell_type": "markdown",
      "metadata": {
        "id": "ckNDI7ftUrpa"
      },
      "source": [
        "1. ---**INGRESE SU RESPUESTA**---\n",
        "2. ---**INGRESE SU RESPUESTA**---\n",
        "3. ---**INGRESE SU RESPUESTA**---"
      ]
    },
    {
      "cell_type": "markdown",
      "source": [
        "## **1. Análisis y resultados**\n",
        "---"
      ],
      "metadata": {
        "id": "Q1pVjKU7m_cC"
      }
    },
    {
      "cell_type": "markdown",
      "metadata": {
        "id": "56fe78e6"
      },
      "source": [
        "Al adentrarse en el análisis de datos, es crucial adoptar un enfoque estratégico que responda a las preguntas de planteadas en el proyecto. La selección de variables para estudio requiere una evaluación cuidadosa de los objetivos específicos del proyecto, priorizando aquellas que se consideren fundamentales para obtener resultados significativos.\n",
        "\n",
        "A lo largo de esta entrega, trate busque responder las siguientes preguntas\n",
        "\n",
        "- ¿Cómo se aplicaron conceptos específicos de estadística descriptiva e inferencial en el análisis de datos y cuál fue el enfoque utilizado para interpretar los resultados de manera precisa?\n",
        "- ¿Cómo se interpretaron los resultados de la estadística descriptiva y qué conclusiones se pueden extraer?\n",
        "- ¿Cómo se relacionan los resultados del análisis de datos con los objetivos y preguntas planteadas inicialmente?\n",
        "- ¿Qué implicaciones prácticas tienen los hallazgos y cómo podrían influir en la toma de decisiones?"
      ]
    },
    {
      "cell_type": "markdown",
      "metadata": {
        "id": "53af2475"
      },
      "source": [
        "### **1.1. Análisis de correlaciones**\n",
        "---\n",
        "\n",
        "- Analice la posible existencia de relaciones entre las variables, utilizando medidas de correlación o visualizaciones pertinentes.\n",
        "- Detecte la presencia de redundancias entre las variables, con el objetivo de facilitar su posterior eliminación o selección en el análisis.\n",
        "- ¿Cuáles fueron las variables seleccionadas para el análisis de correlaciones, y cómo se eligieron en función de los objetivos del proyecto?\n"
      ]
    },
    {
      "cell_type": "code",
      "source": [
        "# ---INGRESE SU CÓDIGO---"
      ],
      "metadata": {
        "id": "vgLQ47O0X6qK"
      },
      "execution_count": null,
      "outputs": []
    },
    {
      "cell_type": "markdown",
      "metadata": {
        "id": "2bd6f16f"
      },
      "source": [
        "---**INGRESE SU RESPUESTA**---"
      ]
    },
    {
      "cell_type": "markdown",
      "metadata": {
        "id": "N_JhY9aQenPB"
      },
      "source": [
        "### **1.2. Análisis de regresiones**\n",
        "---\n",
        "\n",
        "- Apartir de las correlaciones identificadas, ¿es posible llevar a cabo un análisis de regresiones para estimar el valor de alguna de las variables de interés?\n",
        "- ¿Cuáles fueron las variables seleccionadas para el análisis de regresiones y cómo se eligieron en función de los objetivos del proyecto?\n"
      ]
    },
    {
      "cell_type": "code",
      "source": [
        "# ---INGRESE SU CÓDIGO---"
      ],
      "metadata": {
        "id": "ZR3CBNm0enPD"
      },
      "execution_count": null,
      "outputs": []
    },
    {
      "cell_type": "markdown",
      "metadata": {
        "id": "k3ocIh1genPF"
      },
      "source": [
        "---**INGRESE SU RESPUESTA**---"
      ]
    },
    {
      "cell_type": "markdown",
      "metadata": {
        "id": "hjSPxoJOd7zR"
      },
      "source": [
        "### **1.3. Estadística inferencial (Opcional)**\n",
        "---\n",
        "\n",
        "- ¿Resulta pertinente calcular intervalos de confianza para estimar algún parámetro con confianza a partir de una muestra?\n",
        "- ¿Es posible realizar pruebas de hipótesis para probar alguna teoría sobre un parámetro de la población?"
      ]
    },
    {
      "cell_type": "code",
      "source": [
        "# ---INGRESE SU CÓDIGO---"
      ],
      "metadata": {
        "id": "8Be5Nx1jd7zT"
      },
      "execution_count": null,
      "outputs": []
    },
    {
      "cell_type": "markdown",
      "metadata": {
        "id": "j4OShammd7zq"
      },
      "source": [
        "---**INGRESE SU RESPUESTA**---"
      ]
    },
    {
      "cell_type": "markdown",
      "source": [
        "## **2. Resultados y visualizaciones**"
      ],
      "metadata": {
        "id": "VL49yVgZm01s"
      }
    },
    {
      "cell_type": "markdown",
      "source": [
        "### **2.1. Visualizaciones Estáticas**\n",
        "---\n",
        "\n",
        "* Incluya gráficos y visualizaciones estáticas que sean relevantes para los datos analizados.\n",
        "* Explique cada visualización y cómo contribuye a la comprensión de los resultados."
      ],
      "metadata": {
        "id": "uo9QlrykotYH"
      }
    },
    {
      "cell_type": "code",
      "execution_count": null,
      "metadata": {
        "id": "KXpSR_j-ofTu"
      },
      "outputs": [],
      "source": [
        "# ---INGRESE SU CÓDIGO---"
      ]
    },
    {
      "cell_type": "markdown",
      "source": [
        "### **2.2. Visualizaciones Interactivas**\n",
        "---\n",
        "\n",
        "* Cree visualizaciones interactivas, como gráficos dinámicos o tableros interactivos y proporcione instrucciones claras sobre cómo interactuar con ellos.\n",
        "* Explore cómo estas visualizaciones ayudan en la exploración de datos y documente su análisis."
      ],
      "metadata": {
        "id": "O7E_-U3Ko5pO"
      }
    },
    {
      "cell_type": "code",
      "execution_count": null,
      "metadata": {
        "id": "LtzJmR0Bo5pP"
      },
      "outputs": [],
      "source": [
        "# ---INGRESE SU CÓDIGO---"
      ]
    },
    {
      "cell_type": "markdown",
      "source": [
        "### **2.3. Visualización de Mapas Coropléticos (Opcional)**\n",
        "---\n",
        "\n",
        "* Si aplica mapas coropléticos para representar datos geoespaciales, incluya estas visualizaciones.\n",
        "* Explique la elección de este tipo de visualización y cómo ésta contribuye a la comprensión de patrones geográficos y a la solución planteada."
      ],
      "metadata": {
        "id": "_A5-mWAmpKGa"
      }
    },
    {
      "cell_type": "code",
      "execution_count": null,
      "metadata": {
        "id": "Vj8oCIjupKGa"
      },
      "outputs": [],
      "source": [
        "# ---INGRESE SU CÓDIGO---"
      ]
    },
    {
      "cell_type": "markdown",
      "source": [
        "### **2.4. Interpretación de Resultados**\n",
        "---\n",
        "* ¿Existen patrones o tendencias significativas en los datos?\n",
        "* ¿Qué significan los resultados en términos prácticos?\n",
        "* ¿Existen patrones o tendencias inesperadas en los datos que requieran una consideración especial o una investigación adicional?\n",
        "* ¿Cuáles fueron los hallazgos principales que contribuirán al proceso de toma de decisiones?\n",
        "\n",
        "Recuerde que la interpretación de resultados es una fase clave para extraer el significado de los datos y proporcionar respuestas o soluciones al problema inicial."
      ],
      "metadata": {
        "id": "j1_c3w9qmoXz"
      }
    },
    {
      "cell_type": "code",
      "execution_count": null,
      "metadata": {
        "id": "b2e644a9"
      },
      "outputs": [],
      "source": [
        "# ---INGRESE SU CÓDIGO---"
      ]
    },
    {
      "cell_type": "markdown",
      "source": [
        "## **3. Conclusiones**\n",
        "---\n",
        "Asegúrese de incluir al menos una conclusión de cada unidad tratada en los *notebooks*. Estas conclusiones actúan como resúmenes breves que destacan los puntos clave y los aprendizajes esenciales de cada sección.\n",
        "\n",
        "\n",
        "1.   \n",
        "2.   \n",
        "3.   \n",
        "4.   \n",
        "\n"
      ],
      "metadata": {
        "id": "jar8_SsYm3ao"
      }
    },
    {
      "cell_type": "markdown",
      "source": [
        "## **Créditos**\n",
        "* **Profesor:** [Felipe Restrepo Calle](https://dis.unal.edu.co/~ferestrepoca/)\n",
        "* **Asistentes docentes:**\n",
        "    - [Juan Sebastián Lara Ramírez](https://www.linkedin.com/in/juan-sebastian-lara-ramirez-43570a214/).\n",
        "* **Diseño de imágenes:**\n",
        "    - [Rosa Alejandra Superlano Esquibel](mailto:rsuperlano@unal.edu.co).\n",
        "* **Coordinador de virtualización:**\n",
        "    - [Edder Hernández Forero](https://www.linkedin.com/in/edder-hernandez-forero-28aa8b207/).\n",
        "    \n",
        "**Universidad Nacional de Colombia** - *Facultad de Ingeniería*"
      ],
      "metadata": {
        "id": "ceibuW1dNH9a"
      }
    }
  ]
}